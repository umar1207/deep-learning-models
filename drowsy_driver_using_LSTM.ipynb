{
 "cells": [
  {
   "cell_type": "markdown",
   "metadata": {},
   "source": [
    "built the model discussed in this paper\n",
    "https://doi.org/10.32604/csse.2023.024643"
   ]
  },
  {
   "cell_type": "code",
   "execution_count": 1,
   "metadata": {},
   "outputs": [
    {
     "name": "stderr",
     "output_type": "stream",
     "text": [
      "2023-12-01 17:01:26.301767: I metal_plugin/src/device/metal_device.cc:1154] Metal device set to: Apple M1\n",
      "2023-12-01 17:01:26.301790: I metal_plugin/src/device/metal_device.cc:296] systemMemory: 8.00 GB\n",
      "2023-12-01 17:01:26.301797: I metal_plugin/src/device/metal_device.cc:313] maxCacheSize: 2.67 GB\n",
      "2023-12-01 17:01:26.301878: I tensorflow/core/common_runtime/pluggable_device/pluggable_device_factory.cc:303] Could not identify NUMA node of platform GPU ID 0, defaulting to 0. Your kernel may not have been built with NUMA support.\n",
      "2023-12-01 17:01:26.302037: I tensorflow/core/common_runtime/pluggable_device/pluggable_device_factory.cc:269] Created TensorFlow device (/job:localhost/replica:0/task:0/device:GPU:0 with 0 MB memory) -> physical PluggableDevice (device: 0, name: METAL, pci bus id: <undefined>)\n"
     ]
    }
   ],
   "source": [
    "import tensorflow as tf\n",
    "from tensorflow.keras.models import Sequential\n",
    "from tensorflow.keras.layers import Dense, Input, Reshape, BatchNormalization, MaxPooling3D,Dropout, Flatten, Conv3D, LSTM, GlobalAveragePooling3D\n",
    "\n",
    "model = tf.keras.models.Sequential([\n",
    "    Input(shape=(50,60,60,3)),\n",
    "\n",
    "    Conv3D(filters = 4, kernel_size = (3,3,3), strides = (1,1,2), padding='same', activation = 'relu'),\n",
    "    BatchNormalization(),\n",
    "    Conv3D(filters = 4, kernel_size = (3,3,3), strides = (1,1,2), padding='same', activation = 'relu'),\n",
    "    BatchNormalization(),\n",
    "    MaxPooling3D((3,3,3), padding='same'),\n",
    "    Dropout(0.15),\n",
    "\n",
    "    Conv3D(filters = 8, kernel_size = (3,3,3), strides = (1,1,2), padding='same', activation = 'relu'),\n",
    "    BatchNormalization(),\n",
    "    Conv3D(filters = 8, kernel_size = (3,3,3), strides = (1,1,2), padding='same', activation = 'relu'),\n",
    "    BatchNormalization(),\n",
    "    MaxPooling3D((3,3,3), padding='same'),\n",
    "    Dropout(0.15),\n",
    "\n",
    "    GlobalAveragePooling3D(),\n",
    "    Reshape((1,8)),\n",
    "    LSTM(32),\n",
    "\n",
    "    Dense(32, activation='relu'),\n",
    "    Dropout(0.15),\n",
    "    Dense(1, activation='sigmoid')\n",
    "\n",
    "])"
   ]
  },
  {
   "cell_type": "code",
   "execution_count": 2,
   "metadata": {},
   "outputs": [
    {
     "name": "stdout",
     "output_type": "stream",
     "text": [
      "Model: \"sequential\"\n",
      "_________________________________________________________________\n",
      " Layer (type)                Output Shape              Param #   \n",
      "=================================================================\n",
      " conv3d (Conv3D)             (None, 50, 60, 30, 4)     328       \n",
      "                                                                 \n",
      " batch_normalization (Batch  (None, 50, 60, 30, 4)     16        \n",
      " Normalization)                                                  \n",
      "                                                                 \n",
      " conv3d_1 (Conv3D)           (None, 50, 60, 15, 4)     436       \n",
      "                                                                 \n",
      " batch_normalization_1 (Bat  (None, 50, 60, 15, 4)     16        \n",
      " chNormalization)                                                \n",
      "                                                                 \n",
      " max_pooling3d (MaxPooling3  (None, 17, 20, 5, 4)      0         \n",
      " D)                                                              \n",
      "                                                                 \n",
      " dropout (Dropout)           (None, 17, 20, 5, 4)      0         \n",
      "                                                                 \n",
      " conv3d_2 (Conv3D)           (None, 17, 20, 3, 8)      872       \n",
      "                                                                 \n",
      " batch_normalization_2 (Bat  (None, 17, 20, 3, 8)      32        \n",
      " chNormalization)                                                \n",
      "                                                                 \n",
      " conv3d_3 (Conv3D)           (None, 17, 20, 2, 8)      1736      \n",
      "                                                                 \n",
      " batch_normalization_3 (Bat  (None, 17, 20, 2, 8)      32        \n",
      " chNormalization)                                                \n",
      "                                                                 \n",
      " max_pooling3d_1 (MaxPoolin  (None, 6, 7, 1, 8)        0         \n",
      " g3D)                                                            \n",
      "                                                                 \n",
      " dropout_1 (Dropout)         (None, 6, 7, 1, 8)        0         \n",
      "                                                                 \n",
      " global_average_pooling3d (  (None, 8)                 0         \n",
      " GlobalAveragePooling3D)                                         \n",
      "                                                                 \n",
      " reshape (Reshape)           (None, 1, 8)              0         \n",
      "                                                                 \n",
      " lstm (LSTM)                 (None, 32)                5248      \n",
      "                                                                 \n",
      " dense (Dense)               (None, 32)                1056      \n",
      "                                                                 \n",
      " dropout_2 (Dropout)         (None, 32)                0         \n",
      "                                                                 \n",
      " dense_1 (Dense)             (None, 1)                 33        \n",
      "                                                                 \n",
      "=================================================================\n",
      "Total params: 9805 (38.30 KB)\n",
      "Trainable params: 9757 (38.11 KB)\n",
      "Non-trainable params: 48 (192.00 Byte)\n",
      "_________________________________________________________________\n"
     ]
    }
   ],
   "source": [
    "model.summary()"
   ]
  }
 ],
 "metadata": {
  "kernelspec": {
   "display_name": "tensorflow",
   "language": "python",
   "name": "python3"
  },
  "language_info": {
   "codemirror_mode": {
    "name": "ipython",
    "version": 3
   },
   "file_extension": ".py",
   "mimetype": "text/x-python",
   "name": "python",
   "nbconvert_exporter": "python",
   "pygments_lexer": "ipython3",
   "version": "3.10.12"
  }
 },
 "nbformat": 4,
 "nbformat_minor": 2
}
